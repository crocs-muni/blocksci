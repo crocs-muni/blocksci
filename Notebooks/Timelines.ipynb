{
 "cells": [
  {
   "cell_type": "code",
   "execution_count": 1,
   "id": "5123b005-423b-4b43-bb19-37afb1dc99c0",
   "metadata": {},
   "outputs": [],
   "source": [
    "import blocksci\n",
    "import collections\n",
    "import pandas as pd\n",
    "import numpy as np\n",
    "from pathlib import Path\n",
    "\n",
    "\n",
    "parser_data_directory = Path(\"/mnt/anal/config.json\")\n",
    "cluster_directory = Path(\"/mnt/anal/cluster/\")\n",
    "dumplings_directory = Path(\"/mnt/dumplings/\")\n",
    "\n",
    "chain = blocksci.Blockchain(str(parser_data_directory))\n",
    "\n",
    "from typing import Tuple\n",
    "\n",
    "def get_block_height_for_date(date: str) -> int:\n",
    "    return chain.range(date)[0].height\n",
    "\n",
    "def get_block_height_range(start: str, end: str) -> Tuple[int, int]:\n",
    "    return get_block_height_for_date(start), get_block_height_for_date(end)"
   ]
  },
  {
   "cell_type": "code",
   "execution_count": 2,
   "id": "5b75820a-f692-47db-9754-24bf158209e5",
   "metadata": {},
   "outputs": [
    {
     "name": "stdout",
     "output_type": "stream",
     "text": [
      "CPU times: user 1min 11s, sys: 6.15 s, total: 1min 17s\n",
      "Wall time: 1min 16s\n",
      "CPU times: user 10min 10s, sys: 460 ms, total: 10min 10s\n",
      "Wall time: 10min 13s\n"
     ]
    }
   ],
   "source": [
    "%time txes = chain.blocks.txes.where(lambda tx: tx.fee > 10**7).to_list()\n",
    "\n",
    "%time txes2 = [tx for block in chain for tx in block if tx.fee > 10**7]"
   ]
  },
  {
   "cell_type": "code",
   "execution_count": 30,
   "id": "1d66ddd5-c404-4946-ad4c-7885aee872c8",
   "metadata": {},
   "outputs": [
    {
     "name": "stdout",
     "output_type": "stream",
     "text": [
      "CPU times: user 144 ms, sys: 171 ms, total: 315 ms\n",
      "Wall time: 2.28 s\n"
     ]
    }
   ],
   "source": [
    "from multiprocessing import Pool\n",
    "import itertools\n",
    "\n",
    "heu = blocksci.heuristics.is_coinjoin\n",
    "\n",
    "def is_ww2_cj(tx: blocksci.Tx) -> bool:\n",
    "    return heu(tx)\n",
    "                            \n",
    "def filter_txes_large_fee(startstop):\n",
    "    start, stop = startstop\n",
    "    return chain[start:stop].txes.where(is_ww2_cj).select(lambda tx: tx.hash)\n",
    "\n",
    "with Pool(128) as p:\n",
    "    %time res = p.map(filter_txes_large_fee, chain._segment_indexes(0, len(chain), 128))\n"
   ]
  },
  {
   "cell_type": "code",
   "execution_count": 31,
   "id": "fe9637b4-e96f-4b30-85ac-25b2da42c149",
   "metadata": {},
   "outputs": [
    {
     "name": "stdout",
     "output_type": "stream",
     "text": [
      "1211614\n",
      "8d49d3808c55ddc7d99b2f179f054b72b9c6ba8d4b4b7a4b7c35fc8950ddf45c\n"
     ]
    }
   ],
   "source": [
    "r = list(map(lambda t: t.decode(), (itertools.chain(*res))))\n",
    "print(len(r))\n",
    "print(r[1])"
   ]
  },
  {
   "cell_type": "code",
   "execution_count": 4,
   "id": "87fc95d9-e17c-4e7c-8699-e7cb3161c162",
   "metadata": {},
   "outputs": [
    {
     "name": "stdout",
     "output_type": "stream",
     "text": [
      "CPU times: user 57 s, sys: 51.3 s, total: 1min 48s\n",
      "Wall time: 757 ms\n"
     ]
    }
   ],
   "source": [
    "%time txes3 = chain.filter_fee_greater_than(0, len(chain), 10**7)"
   ]
  },
  {
   "cell_type": "code",
   "execution_count": 32,
   "id": "74c3cd80-ce86-4119-ad79-77e418a168a6",
   "metadata": {},
   "outputs": [
    {
     "name": "stdout",
     "output_type": "stream",
     "text": [
      "CPU times: user 1min 19s, sys: 388 ms, total: 1min 19s\n",
      "Wall time: 604 ms\n",
      "37528\n"
     ]
    }
   ],
   "source": [
    "%time ww2_cjs = set(map(lambda tx: tx.hash, chain.filter_coinjoin_txes(0, len(chain), \"ww2\")))\n",
    "\n",
    "print(len(ww2_cjs))"
   ]
  },
  {
   "cell_type": "code",
   "execution_count": 33,
   "id": "e264d5ec-b98f-4d96-ba34-8822fcca918e",
   "metadata": {},
   "outputs": [
    {
     "name": "stdout",
     "output_type": "stream",
     "text": [
      "CPU times: user 17min 46s, sys: 786 ms, total: 17min 47s\n",
      "Wall time: 28.6 s\n",
      "541119\n"
     ]
    }
   ],
   "source": [
    "%time ww1_cjs = set(map(lambda tx: tx.hash, chain.filter_coinjoin_txes(0, len(chain), \"ww1\")))\n",
    "\n",
    "print(len(wp))"
   ]
  },
  {
   "cell_type": "code",
   "execution_count": 34,
   "id": "18eb92f7-da75-40fa-9825-0150d9060e7d",
   "metadata": {},
   "outputs": [
    {
     "name": "stdout",
     "output_type": "stream",
     "text": [
      "CPU times: user 1min 25s, sys: 687 ms, total: 1min 26s\n",
      "Wall time: 1.12 s\n",
      "541119\n"
     ]
    }
   ],
   "source": [
    "%time wp = set(map(lambda tx: tx.hash, chain.filter_coinjoin_txes(0, len(chain), \"wp\")))\n",
    "\n",
    "print(len(wp))"
   ]
  },
  {
   "cell_type": "code",
   "execution_count": 42,
   "id": "d9697f8e-ca2b-4864-b55d-cbcad6d2e527",
   "metadata": {},
   "outputs": [
    {
     "name": "stdout",
     "output_type": "stream",
     "text": [
      "set()\n"
     ]
    }
   ],
   "source": [
    "sww2 = set(ww2_cjs)\n",
    "sww1 = set(ww1_cjs)\n",
    "swp = set(wp)\n",
    "srandom = set(r)\n",
    "\n",
    "print(set.intersection(sww2, sww1, swp, srandom))"
   ]
  },
  {
   "cell_type": "code",
   "execution_count": 14,
   "id": "0b69ad07-213a-4f2b-9a92-e102d37564a9",
   "metadata": {},
   "outputs": [
    {
     "name": "stdout",
     "output_type": "stream",
     "text": [
      "True\n"
     ]
    },
    {
     "data": {
      "text/plain": [
       "3209"
      ]
     },
     "execution_count": 14,
     "metadata": {},
     "output_type": "execute_result"
    }
   ],
   "source": [
    "print(no_ww2_check[0].inputs[0].address_type == blocksci.address_type.witness_pubkeyhash)\n",
    "\n",
    "c: blocksci.Address = chain.address_from_string(\"bc1qa24tsgchvuxsaccp8vrnkfd85hrcpafg20kmjw\")\n",
    "\n",
    "c.output_txes_count()"
   ]
  },
  {
   "cell_type": "code",
   "execution_count": 19,
   "id": "5844db1d-c642-4e0a-85b8-a530122ba6f9",
   "metadata": {},
   "outputs": [],
   "source": [
    "denoms2 = set(\n",
    "    sorted([\n",
    "    200000000000, 20000000000, 2000000000, 20000000, 200000, 100000000000, 20000, 10000000000, 1000000000, 10000000, \n",
    "    100000, 6561, 59049, 354294, 177147, 10000, 5000, 6973568802, 134375000000, 86093442, 2324522934, \n",
    "    3188646, 3486784401, 2000000, 1073741824, 387420489, 8388608, 65536, 19683, 2147483648, 774840978, \n",
    "    16777216, 131072, 4294967296, 33554432, 262144, 8589934592, 67108864, 524288, 17179869184, 134217728, \n",
    "    8192, 1048576, 100000000, 531441, 268435456, 34359738368, 16384, 2097152, 200000000, 1062882, 1000000, \n",
    "    68719476736, 536870912, 32768, 4194304, 1162261467, 1594323, 4782969, 14348907, 43046721, 129140163, 10460353203, \n",
    "    31381059609, 94143178827, 13122, 39366, 118098, 9565938, 28697814, 258280326, 20920706406, 62762119218, 188286357654\n",
    "        ]\n",
    "    )\n",
    ")\n"
   ]
  }
 ],
 "metadata": {
  "kernelspec": {
   "display_name": "Python 3 (ipykernel)",
   "language": "python",
   "name": "python3"
  },
  "language_info": {
   "codemirror_mode": {
    "name": "ipython",
    "version": 3
   },
   "file_extension": ".py",
   "mimetype": "text/x-python",
   "name": "python",
   "nbconvert_exporter": "python",
   "pygments_lexer": "ipython3",
   "version": "3.8.10"
  }
 },
 "nbformat": 4,
 "nbformat_minor": 5
}
