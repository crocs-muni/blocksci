{
 "cells": [
  {
   "cell_type": "code",
   "execution_count": 1,
   "id": "24db7ade-273f-48f1-8b47-669341e88c07",
   "metadata": {},
   "outputs": [],
   "source": [
    "import blocksci\n",
    "import collections\n",
    "import pandas as pd\n",
    "import numpy as np\n",
    "from pathlib import Path\n",
    "\n",
    "\n",
    "parser_data_directory = Path(\"/mnt/anal/config.json\")\n",
    "cluster_directory = Path(\"/mnt/anal/cluster/\")\n",
    "dumplings_directory = Path(\"/mnt/dumplings/\")\n",
    "\n",
    "chain = blocksci.Blockchain(str(parser_data_directory))\n",
    "\n",
    "from typing import Tuple\n",
    "\n",
    "def get_block_height_for_date(date: str) -> int:\n",
    "    return chain.range(date)[0].height\n",
    "\n",
    "def get_block_height_range(start: str, end: str) -> Tuple[int, int]:\n",
    "    return get_block_height_for_date(start), get_block_height_for_date(end)"
   ]
  },
  {
   "cell_type": "code",
   "execution_count": 4,
   "id": "22a7670e-9166-4571-b7d0-47ec9c16e74f",
   "metadata": {},
   "outputs": [
    {
     "name": "stdout",
     "output_type": "stream",
     "text": [
      "bc1qprpasvx70nzam6ym3jnpgr4vmr53zmeydep0mz\n",
      "Collected 5135482 addresses\n",
      "Created disjoint sets of size 5135482\n",
      "Preparing to serialize cluster data\n",
      "Serializing cluster data\n",
      "Serialized\n",
      "CPU times: user 8min 57s, sys: 2min 15s, total: 11min 13s\n",
      "Wall time: 35.6 s\n"
     ]
    }
   ],
   "source": [
    "# import random\n",
    "\n",
    "one_random_wp_cj = chain.tx_with_hash(\"9ea3e5d217c76e6be6ace7fe4fb3622976103466de81d2b02cd87c54f9e91a2f\")\n",
    "one_random_wp_cj = chain.tx_with_hash(\"00ab23721356a159b695060b3975469fa0703e55398e9123ef59d2a5b94b1058\")\n",
    "address_im_looking_for = one_random_wp_cj.outputs[1].spending_tx.outputs[0].address\n",
    "print(address_im_looking_for)\n",
    "\n",
    "# clusterer = blocksci.cluster.ClusterManager(str(cluster_directory / \"fr\"), chain)\n",
    "\n",
    "%time clusterer = blocksci.cluster.CoinjoinClusterManager.create_clustering(chain, 0, len(chain), \"/mnt/anal/clustering/whirlpool/\", overwrite=True, coinjoin_type=\"whirlpool\")\n"
   ]
  },
  {
   "cell_type": "code",
   "execution_count": 5,
   "id": "822a285b-1492-48f8-be33-3f58bd9cd7ca",
   "metadata": {},
   "outputs": [
    {
     "name": "stdout",
     "output_type": "stream",
     "text": [
      "7735585\n"
     ]
    },
    {
     "ename": "KeyboardInterrupt",
     "evalue": "",
     "output_type": "error",
     "traceback": [
      "\u001b[0;31m---------------------------------------------------------------------------\u001b[0m",
      "\u001b[0;31mKeyboardInterrupt\u001b[0m                         Traceback (most recent call last)",
      "File \u001b[0;32m<timed exec>:1\u001b[0m\n",
      "File \u001b[0;32m<timed exec>:1\u001b[0m, in \u001b[0;36m<listcomp>\u001b[0;34m(.0)\u001b[0m\n",
      "\u001b[0;31mKeyboardInterrupt\u001b[0m: "
     ]
    },
    {
     "ename": "NameError",
     "evalue": "name 'bigger_than_one' is not defined",
     "output_type": "error",
     "traceback": [
      "\u001b[0;31m---------------------------------------------------------------------------\u001b[0m",
      "\u001b[0;31mNameError\u001b[0m                                 Traceback (most recent call last)",
      "Cell \u001b[0;32mIn[5], line 7\u001b[0m\n\u001b[1;32m      5\u001b[0m \u001b[38;5;28mprint\u001b[39m(\u001b[38;5;28mlen\u001b[39m(clusterer\u001b[38;5;241m.\u001b[39mclusters()))\n\u001b[1;32m      6\u001b[0m get_ipython()\u001b[38;5;241m.\u001b[39mrun_line_magic(\u001b[38;5;124m'\u001b[39m\u001b[38;5;124mtime\u001b[39m\u001b[38;5;124m'\u001b[39m, \u001b[38;5;124m'\u001b[39m\u001b[38;5;124mbigger_than_one = [cluster for cluster in clusterer.clusters() if cluster.address_count() > 1]\u001b[39m\u001b[38;5;124m'\u001b[39m)\n\u001b[0;32m----> 7\u001b[0m \u001b[38;5;28mprint\u001b[39m(\u001b[38;5;28mlen\u001b[39m(\u001b[43mbigger_than_one\u001b[49m))\n\u001b[1;32m      8\u001b[0m get_ipython()\u001b[38;5;241m.\u001b[39mrun_line_magic(\u001b[38;5;124m'\u001b[39m\u001b[38;5;124mtime\u001b[39m\u001b[38;5;124m'\u001b[39m, \u001b[38;5;124m'\u001b[39m\u001b[38;5;124mbigger_than_one.sort(key=lambda c: c.balance(), reverse=True)\u001b[39m\u001b[38;5;124m'\u001b[39m)\n\u001b[1;32m      9\u001b[0m cluster \u001b[38;5;241m=\u001b[39m bigger_than_one[\u001b[38;5;241m0\u001b[39m]\n",
      "\u001b[0;31mNameError\u001b[0m: name 'bigger_than_one' is not defined"
     ]
    }
   ],
   "source": [
    "clusterer = blocksci.cluster.ClusterManager(\"/mnt/anal/clustering/wasabi1/\", chain)\n",
    "\n",
    "print(len(clusterer.clusters()))\n",
    "%time bigger_than_one = [cluster for cluster in clusterer.clusters() if cluster.address_count() > 1]\n",
    "print(len(bigger_than_one))\n",
    "%time bigger_than_one.sort(key=lambda c: c.balance(), reverse=True)\n",
    "cluster = bigger_than_one[0]\n"
   ]
  },
  {
   "cell_type": "code",
   "execution_count": 6,
   "id": "32611dfc-041f-4f28-b610-9baaaf767186",
   "metadata": {},
   "outputs": [
    {
     "name": "stdout",
     "output_type": "stream",
     "text": [
      "[PubkeyHashAddress(1F3Cpgben5uRAMptnPRL9coAbKp9YmWqfb), WitnessPubkeyAddress(bc1qn878vf8699p32y3ehq2wwaq876uu7yye5m5ahc)]\n",
      "79 2\n"
     ]
    }
   ],
   "source": [
    "a = bigger_than_one[1].addresses.to_list()\n",
    "\n",
    "s = {\"3H7rzruh2wLkCF2pVfn3v1po6aWES2f7iB\", \"39SZ4LKMuKy2vJ63r46yqnTub7ciAvY2B3\", \"3NrUFDF1uqLi7d5UHUD7qoxZcAwLszbXpT\", \"3FyGsPeKRXSazXMre5zvcwFqVrc86gNbLP\", \"3EtZBuGSa8oUT7jxo4S9Bqws24eJ8cgP24\", \"38dsUSUSVw7S2cwX81R9Ex2yqUPGU7EGSE\", \"3GHuXuCJpesrCMvVSeVQatXgxod6f9jq65\", \"3KyWzoPbWyvBVekauAd96h5LsrJbDTVs48\", \"3NqG5tio4G2YeLPtzWSVD9YWNL7Mx3Af5W\", \"32mFyKRHGmSSG8ELvnr8eUW5y2CEroFWRt\", \"3AFjEf7e2uiq2kyZJouASEn3hdxGQwQhAs\", \"3HJasiWwPipfheoPWw4b2KCWGYJnfyESsS\", \"3H9ECmG59doCbsGwT2U9ipH2zKDXc33Mb1\", \"3NCyJpLcbCntj4ycAa6mPwzDhDx7raHkW4\", \"3EfmDALTK4HL6UAfZbSTkCY6KmTpBDkMd3\", \"34GDGGvvmas8vZvspL4xoJDbnjcVVSyDGg\", \"3E865Edvwvv2f9SadroyPkuD8NWsnnh12h\", \"3Gxxz3zwRPSiwJELLn12VuXCdWUSuc4Jqe\", \"333rRogJJhnbhTZWxH7ahx7mgpBnvSh77k\", \"3BZDdyUPbg1eNTV6R9xJYUsEq6NR6rj2rE\", \"32thrw17kHJcAeUgeMEuuwxn2WZzF1UZqe\", \"35UzUksackYfJYeGg3RBSkKpx53YJQshCQ\", \"379gaVDJ8QKJ3JZpqsd54w2YAU9dsezyS4\", \"36AxQ412DjtZYiaGHWBS2yhtLYzJTiG5ip\", \"3BDaQUuSEfwmGTLeJZmUYtaeWWuAmrYoBv\", \"3B8H61BWrbt2XgNYKjqeUbteXxz5ZfVzwK\", \"35Bvp5N9qjp4Cxr7ntmEQv5rngZhe1RRDx\", \"36Q8uRcVpcvkGjfDbNBESmKtYygtSVkq6h\", \"3D4GWmZXSzvqkZR18vfJoW6HKqHCp6RM6a\", \"3Jy9bQ3xaXWSrVfmyrNSrhQjxKwogSTphF\", \"37y7iY4aLD5kQ4hf4zGYgD5dHqJK9z5K6v\", \"3QSbqjR4aWAeNxgZyvY4G59KPpLiZkSobL\", \"361nuo9aqPvsEMNZ23ZEgZooWdoNogmBWA\", \"39nWFQ9UjFxSuCU2rQo2eTr7HpA8TvHGuA\", \"3KCUnnrKeBnZDaHFi4HzimAPjc6BiXFoPr\", \"3JrqkJz6rC9Hcd5qjm8XJbqYFga9nN4GAs\", \"38QQbdgboThzMsuK1YzSL5nEVjZvdLBhWC\", \"3QDQeyFuYvumJjUThNFwUWEQHmwnaja2T4\", \"3Bwj1esSNx9qwkJyYPRqi4eZ9puzNWDgN3\", \"3CmTJW1rsCGdiDrabCL2SJo6i84Htwk7M3\", \"3MQu2hzCfQM33Xz6PN6rg9jRTZvrYVeU2R\", \"38ihLYWdpjDyrBeuu5ndps8SWipmPHcDE6\", \"3QYzQ1LCRdNFbupM9QipMQnZCfe6dh8PEY\", \"3AMPWEG7rpRzc2mtNAxN9E1CD4Vff7ux1d\", \"3G72zVkYH1PD2HbMKvVHjmrVZiMMpaJGeS\", \"3EQjsa37d1ePVCBR8TfiAZ9WhbYGypeWEA\", \"3GP87BRQtvzTkVPKzhXgVnft9QpZrZRUxr\", \"3L58gWsGyizovHfzUgXiaKsJRR5mdFJ2XD\", \"3LxEMPDjhcsyrC9Dk1mVpn4AFmLG5X97VV\", \"3PVbHejz8ttTUqHTBAYjzdgLBcsDLkH3fN\", \"3AJAMUtRyZE6SNFRfY19dFcFFs8T6rG8ZJ\", \"3GG32oH3kaU8WYK38vuwesUbSoq9KSzVAf\", \"353bvSADaPRnr8owqQzkysN1wPCPLvj6fn\", \"343sJ9MfCnn3v1zo4minZzhM8UcqCxEW8y\", \"37zdULp8aHmkHFuP3vts3DwGEEZtvuM7t6\", \"3Jv8kK6g8izMUZYQdRBX18mVKTjrQGNmQm\", \"33W8F8ufZEwmRS1H9eSKdfo4KyvPw4Rt7c\", \"3EMSoNRT6JVNVU5eeMJBtQgQxPQeGrAkJs\", \"3BPp7i6GJt8KaRMqLFxEg4HrKQWGg74vvP\", \"3FJ8nouCg3JHBPw9B9f6WDCWsQ8UrHn5rb\", \"3Q1tVt81o7zp3BVP6UY2JAXZonSB9PFBWy\", \"39iPMkYdxscXmePnjur3VpKU2JPG8ZKTJ1\", \"38CfEdeAYvBNzkCrUPAXT8BT4k8pXQUpMR\", \"3B6otXTi8ekZgY4VFybmPv2j9LToHFNHDt\", \"3P2fwiPnQxtZR2ba8J4EDsNLAqu5SEKL4W\", \"3ESJdTRKCqDbKu7tG2jCeCbSw59gTzA1GZ\", \"3FsdGgGQUVWbLwqRQpHfa3xL68XqxGnXcX\", \"3PoN4wXzLy61b3u2585b2UwkwSxFnVNYDv\", \"3KqrrwY83Fy2hCnVB1EFF74xvXVmaHuW79\", \"33FNudmSNr3wYb6jyaPS2yURar2SunNxNy\", \"3J4JoKWapWwK7PoSee3gQzgDiVVhViYAYJ\", \"3AhsUnWu7hwNHyntHZZmTU65wihh9bEfd6\", \"32y1ogyNNvjHo87D5pT48j8G8ppGDeYY69\", \"38UXvHchd1HRohgspQaHQeCLt2M5gXatKg\", \"3AFjEf7e2uiq2kyZJouASEn3hdxGQwQhAs\", \"3FR3diXoNLUhbW3mFC9ZDSVwkyjtPCU8Fn\", \"343Q125WjCnLjC9JKQUsVzd3t5u3fbVniA\", \"3FjcAVpQPfPiyGDLjTr1v4xhGaFR1nX3mY\", \"3P8z2jMTzuwpV5JAzL8FWZ61VXXN2se4me\", \"3F8L9EVFb5oF8HkLwRbPJeALbMhCZx6rcy\"}\n",
    "print(a)\n",
    "print(len(s), len(a))"
   ]
  },
  {
   "cell_type": "code",
   "execution_count": 9,
   "id": "59e90d5f-5ea8-4faa-9fe1-ff781a5c9513",
   "metadata": {},
   "outputs": [
    {
     "name": "stdout",
     "output_type": "stream",
     "text": [
      "567\n",
      "bc1qdnt4eafks89g9f5nhyvftxr3urljdranw9c8z2 False\n"
     ]
    }
   ],
   "source": [
    "clusterer = blocksci.cluster.CoinjoinClusterManager(\"/mnt/anal/clustering/whirlpool/\", chain)\n",
    "\n",
    "consolidation: blocksci.cluster.Cluster = clusterer.cluster_with_address(chain.address_from_string(\"bc1qgvwaz3m0cjxf68axgm7e9282uucls7dycksury\"))\n",
    "consolidation: blocksci.cluster.Cluster = clusterer.cluster_with_address(address_im_looking_for)\n",
    "\n",
    "\n",
    "print(consolidation.address_count())\n",
    "addr = set()\n",
    "for address in consolidation.addresses.to_list():\n",
    "    # print(address)\n",
    "    addr.add(str(address))\n",
    "\n",
    "print(addr.pop(), \"bc1qcy828rc4cuh5z94ukd0pc527tv58hntenmed2q\" in addr)"
   ]
  }
 ],
 "metadata": {
  "kernelspec": {
   "display_name": "Python 3 (ipykernel)",
   "language": "python",
   "name": "python3"
  },
  "language_info": {
   "codemirror_mode": {
    "name": "ipython",
    "version": 3
   },
   "file_extension": ".py",
   "mimetype": "text/x-python",
   "name": "python",
   "nbconvert_exporter": "python",
   "pygments_lexer": "ipython3",
   "version": "3.8.10"
  }
 },
 "nbformat": 4,
 "nbformat_minor": 5
}
