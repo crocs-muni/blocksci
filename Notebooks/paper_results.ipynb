{
 "cells": [
  {
   "cell_type": "code",
   "execution_count": 1,
   "id": "d36a2d73-f587-4056-aba2-5c256acd27a5",
   "metadata": {},
   "outputs": [],
   "source": [
    "import blocksci\n",
    "import matplotlib.pyplot as plt\n",
    "import matplotlib.ticker\n",
    "import collections\n",
    "import pandas as pd\n",
    "import numpy as np\n",
    "from pathlib import Path\n",
    "%matplotlib inline\n",
    "\n",
    "parser_data_directory = Path(\"/mnt/anal/config.json\")\n",
    "cluster_directory = Path(\"/mnt/anal/cluster/\")\n",
    "dumplings_directory = Path(\"/mnt/dumplings/\")\n",
    "\n",
    "chain = blocksci.Blockchain(str(parser_data_directory))\n",
    "\n",
    "from typing import Tuple\n",
    "\n",
    "def get_block_height_for_date(date: str) -> int:\n",
    "    return chain.range(date)[0].height\n",
    "\n",
    "def get_block_height_range(start: str, end: str) -> Tuple[int, int]:\n",
    "    return get_block_height_for_date(start), get_block_height_for_date(end)"
   ]
  },
  {
   "cell_type": "code",
   "execution_count": 2,
   "id": "ec80412b-2539-48a4-be06-e99fb939871d",
   "metadata": {},
   "outputs": [
    {
     "name": "stdout",
     "output_type": "stream",
     "text": [
      "57dfe22896ee38e71f064ccbe8fca668f5d82aa1d437736b513e4f3f8e55d845\n",
      "CoinJoinType.WW1\n",
      "is ww1 cj? 0 False\n",
      "is ww1 cj? 1 False\n",
      "is ww1 cj? 2 False\n",
      "is ww1 cj? 3 False\n",
      "is ww1 cj? 4 False\n",
      "is ww1 cj? 5 False\n",
      "is ww1 cj? 6 False\n",
      "is ww1 cj? 7 False\n",
      "is ww1 cj? 8 False\n",
      "is ww1 cj? 9 False\n",
      "is ww1 cj? 10 False\n",
      "is ww1 cj? 11 False\n",
      "is ww1 cj? 12 False\n",
      "is ww1 cj? 13 False\n",
      "is ww1 cj? 14 False\n",
      "is ww1 cj? 15 False\n",
      "is ww1 cj? 16 False\n",
      "https://mempool.space/tx/57dfe22896ee38e71f064ccbe8fca668f5d82aa1d437736b513e4f3f8e55d845\n",
      "76782bb6741e6198ef6cb0ff99debf2216f4e919ba7ce37c12657d0af89e9ee6\n",
      "116b1f585592080f78107a4b5493910cfda9a5bd215d15585dd8a5cc1a8f1700\n",
      "d82f1bf8ceee3892b95f8be6b559ab1674e7a9373564ee5fe4814338fe267d5a\n",
      "CoinJoinType.WW1\n",
      "is ww1 cj? 0 False\n",
      "is ww1 cj? 1 False\n",
      "is ww1 cj? 2 False\n",
      "is ww1 cj? 3 False\n",
      "is ww1 cj? 4 False\n",
      "is ww1 cj? 5 False\n",
      "is ww1 cj? 6 True\n",
      "is ww1 cj? 7 False\n",
      "is ww1 cj? 8 False\n",
      "is ww1 cj? 9 True\n",
      "is ww1 cj? 10 False\n",
      "https://mempool.space/tx/d82f1bf8ceee3892b95f8be6b559ab1674e7a9373564ee5fe4814338fe267d5a\n",
      "88358b65f8430f5e0c3723e5160612d623d759f7a122114120ed5b01fb71d239\n",
      "3e609b3434eb252dd76465567b94aa0530d44884ed600e5fead22d13328ec2f2\n",
      "CoinJoinType.WW1\n",
      "is ww1 cj? 0 False\n",
      "is ww1 cj? 1 True\n",
      "is ww1 cj? 2 False\n",
      "is ww1 cj? 3 False\n",
      "is ww1 cj? 4 False\n",
      "is ww1 cj? 5 False\n",
      "is ww1 cj? 6 False\n",
      "is ww1 cj? 7 False\n",
      "is ww1 cj? 8 False\n",
      "is ww1 cj? 9 False\n",
      "is ww1 cj? 10 True\n",
      "is ww1 cj? 11 False\n",
      "https://mempool.space/tx/3e609b3434eb252dd76465567b94aa0530d44884ed600e5fead22d13328ec2f2\n"
     ]
    }
   ],
   "source": [
    "import json\n",
    "\n",
    "ww1_false = set(json.loads(open(\"/mnt/anal/false_cjtxs_ww1.json\").read()))\n",
    "c = 0\n",
    "for tx in ww1_false:\n",
    "    tx = chain.tx_with_hash(tx)\n",
    "    print(tx.hash)\n",
    "    if tx.is_wasabi1_coinjoin:\n",
    "        print(blocksci.CoinJoinType(tx.coinjoin_tag))\n",
    "        for i in tx.inputs:\n",
    "            print(f\"is ww1 cj? {i.index} {i.spent_tx.is_wasabi1_coinjoin}\")\n",
    "        print(tx.mempool_space_link)\n",
    "        c += 1\n",
    "        if c > 2:\n",
    "            break"
   ]
  },
  {
   "cell_type": "code",
   "execution_count": 3,
   "id": "f5e1240f-b0f6-49b2-80b2-57bbe075c19d",
   "metadata": {},
   "outputs": [],
   "source": [
    "\"\"\"\n",
    "Table structure\n",
    "cj pool | operating period | total cjtxs | fresh inputs | remix rate | unmoved UTXOs | num of inputs (min, avg, max)\n",
    "ww1\n",
    "ww2 (zkSNACKs)\n",
    "ww2 \n",
    "wp all\n",
    "wp 5m\n",
    "wp 1m\n",
    "wp 50m\n",
    "wp 100k\n",
    "\"\"\"\n",
    "april_24_block_height = get_block_height_for_date('2024-04-24')\n",
    "june_1_block_height = get_block_height_for_date('2024-06-01')\n",
    "last_august_block_height = get_block_height_for_date('2024-08-31')"
   ]
  },
  {
   "cell_type": "code",
   "execution_count": 4,
   "id": "05ee546d-018d-4805-8a32-29c049e51fc9",
   "metadata": {},
   "outputs": [
    {
     "name": "stdout",
     "output_type": "stream",
     "text": [
      "CPU times: user 1min 4s, sys: 43.7 s, total: 1min 48s\n",
      "Wall time: 1.07 s\n",
      "CPU times: user 58 ms, sys: 83.4 ms, total: 141 ms\n",
      "Wall time: 142 ms\n"
     ]
    }
   ],
   "source": [
    "%time ww2_cjs = chain.filter_coinjoin_txes(0, june_1_block_height, \"ww2\")\n",
    "%time ww2_cjs_hashes = set(str(tx.hash) for tx in ww2_cjs)"
   ]
  },
  {
   "cell_type": "code",
   "execution_count": 5,
   "id": "1374430f-8ec8-45f6-a42e-fd6695bb3d0c",
   "metadata": {},
   "outputs": [
    {
     "name": "stdout",
     "output_type": "stream",
     "text": [
      "CPU times: user 4.05 s, sys: 2.67 s, total: 6.72 s\n",
      "Wall time: 113 ms\n",
      "CPU times: user 1.93 ms, sys: 13 ms, total: 15 ms\n",
      "Wall time: 14.5 ms\n"
     ]
    }
   ],
   "source": [
    "%time ww2_cjs_other = chain.filter_coinjoin_txes(june_1_block_height, last_august_block_height, \"ww2\")\n",
    "%time ww2_cjs_other_hashes = set(str(tx.hash) for tx in ww2_cjs_other)"
   ]
  },
  {
   "cell_type": "code",
   "execution_count": 6,
   "id": "d4657b4a-d3ec-4b59-af43-1afb43aac777",
   "metadata": {},
   "outputs": [
    {
     "name": "stdout",
     "output_type": "stream",
     "text": [
      "CPU times: user 1min 33s, sys: 248 ms, total: 1min 34s\n",
      "Wall time: 771 ms\n",
      "CPU times: user 663 ms, sys: 387 ms, total: 1.05 s\n",
      "Wall time: 1.05 s\n"
     ]
    }
   ],
   "source": [
    "%time wp_cjs = chain.filter_coinjoin_txes(0, april_24_block_height, \"wp\")\n",
    "%time wp_cjs_hashes = set(str(tx.hash) for tx in wp_cjs)"
   ]
  },
  {
   "cell_type": "code",
   "execution_count": 7,
   "id": "546e3de6-bdeb-4110-8ef1-e078634cf189",
   "metadata": {},
   "outputs": [
    {
     "name": "stdout",
     "output_type": "stream",
     "text": [
      "CPU times: user 16min 42s, sys: 5.88 s, total: 16min 48s\n",
      "Wall time: 27.3 s\n",
      "CPU times: user 38.3 ms, sys: 38.8 ms, total: 77.1 ms\n",
      "Wall time: 76.8 ms\n"
     ]
    }
   ],
   "source": [
    "%time ww1_cjs = chain.filter_coinjoin_txes(0, june_1_block_height, \"ww1\")\n",
    "%time ww1_cjs_hashes = set(str(tx.hash) for tx in ww1_cjs) - ww1_false"
   ]
  },
  {
   "cell_type": "code",
   "execution_count": 9,
   "id": "177459e2-5ad2-48ba-bab6-76a3b63c3788",
   "metadata": {},
   "outputs": [
    {
     "data": {
      "text/plain": [
       "26781"
      ]
     },
     "execution_count": 9,
     "metadata": {},
     "output_type": "execute_result"
    }
   ],
   "source": [
    "god_set_of_all_coinjoins = ww1_cjs_hashes | wp_cjs_hashes | ww2_cjs_hashes | ww2_cjs_other_hashes\n",
    "len(ww1_cjs)"
   ]
  },
  {
   "cell_type": "code",
   "execution_count": 10,
   "id": "bbbc5219-40ea-4c2a-be7f-0ff835d22ba7",
   "metadata": {},
   "outputs": [],
   "source": [
    "import copy\n",
    "import json\n",
    "\n",
    "wp_stats = {\n",
    "    \"all_txes\": 0,\n",
    "    \"all_inputs\": 0,\n",
    "    \"all_inputs_value\": 0,\n",
    "    \"fresh_inputs\": 0,\n",
    "    \"fresh_inputs_value\": 0,\n",
    "    \"all_outputs\": 0,\n",
    "    \"remixed_outputs\": 0,\n",
    "    \"unmoved_outputs\": 0,\n",
    "    \"unmoved_outputs_value\": 0,\n",
    "    \"traverse_inputs\": 0,\n",
    "    \"traverse_inputs_value\": 0\n",
    "}\n",
    "\n",
    "ww2_stats = copy.deepcopy(wp_stats)\n",
    "ww2_other_stats = copy.deepcopy(wp_stats)\n",
    "ww1_stats = copy.deepcopy(wp_stats)\n",
    "\n",
    "whirlpool_stats = {\n",
    "    \"all\": copy.deepcopy(wp_stats),\n",
    "    \"5m\": copy.deepcopy(wp_stats),\n",
    "    \"1m\": copy.deepcopy(wp_stats),\n",
    "    \"50m\": copy.deepcopy(wp_stats),\n",
    "    \"100k\": copy.deepcopy(wp_stats),\n",
    "}\n",
    "\n",
    "def get_pool(ws, tx):\n",
    "    max_pool_value = max(x.value for x in tx.outputs)\n",
    "    if max_pool_value == 5000000:\n",
    "        return ws[\"5m\"]\n",
    "    if max_pool_value == 1000000:\n",
    "        return ws[\"1m\"]\n",
    "    if max_pool_value == 50000000:\n",
    "        return ws[\"50m\"]\n",
    "    if max_pool_value == 100000:\n",
    "        return ws[\"100k\"]\n",
    "\n",
    "    raise ValueError(f\"wtf {max_pool_value}\")\n",
    "\n",
    "def check_fdnp(tx: blocksci.Tx) -> int:\n",
    "    s = 0\n",
    "    \n",
    "    for i in tx.inputs:\n",
    "        if str(i.spent_tx.hash) in ww2_cjs_hashes or str(i.spent_tx.hash) in ww2_cjs_other_hashes:\n",
    "            s += i.value\n",
    "\n",
    "    return s\n",
    "\n",
    "\n",
    "def should_ignore_input(tx):\n",
    "    s = 0\n",
    "    rv = False\n",
    "    for i in tx.inputs:\n",
    "        sp_tx = i.spent_tx\n",
    "        if str(sp_tx.hash) in ww1_cjs_hashes:\n",
    "            s += i.value\n",
    "            rv = True\n",
    "        elif str(i.spent_tx.hash) in ww2_cjs_hashes or str(i.spent_tx.hash) in ww2_cjs_other_hashes:\n",
    "            s += i.value\n",
    "            rv = True\n",
    "    return s, rv\n",
    "\n",
    "from collections import defaultdict\n",
    "from typing import Dict, Set, List\n",
    "\n",
    "\n",
    "def get_stats_for_cj(\n",
    "    the_stats: Dict[str, int], \n",
    "    tx_objects: List[blocksci.Tx], \n",
    "    given_cjs: Set[str], \n",
    "    is_whirlpool: bool = False, \n",
    "    is_ww2: bool = False, \n",
    "    is_ww1: bool = False\n",
    "):\n",
    "    tx: blocksci.Tx\n",
    "    tx_input: blocksci.Input\n",
    "    tx_output: blocksci.Output\n",
    "    dd_int = defaultdict(int)\n",
    "\n",
    "    for tx in tx_objects:\n",
    "        # filter out false positives\n",
    "        if str(tx.hash) not in given_cjs:\n",
    "            continue\n",
    "\n",
    "        if is_whirlpool:\n",
    "            tx_pool = get_pool(the_stats, tx)\n",
    "            current_stats = the_stats[\"all\"]\n",
    "        else:\n",
    "            tx_pool = dd_int\n",
    "            current_stats = the_stats\n",
    "\n",
    "        current_stats[\"all_txes\"] += 1\n",
    "        tx_pool[\"all_txes\"] += 1\n",
    "        \n",
    "        current_stats[\"all_inputs\"] += tx.input_count\n",
    "        for tx_input in tx.inputs:\n",
    "            current_stats[\"all_inputs_value\"] += tx_input.value\n",
    "            \n",
    "            if str(tx_input.spent_tx.hash) not in given_cjs:\n",
    "                how_much = 0\n",
    "                ignore = False\n",
    "                if is_ww1 or is_ww2:\n",
    "                    how_much, ignore = should_ignore_input(tx_input.spent_tx)\n",
    "  \n",
    "                current_stats[\"fresh_inputs\"] += (0 if ignore else 1) \n",
    "                tx_pool[\"fresh_inputs\"] += 1 \n",
    "                current_stats[\"fresh_inputs_value\"] += (tx_input.value if not ignore else 0)\n",
    "                tx_pool[\"fresh_inputs_value\"] += tx_input.value\n",
    "\n",
    "            if str(tx_input.spent_tx.hash) not in given_cjs and str(tx_input.spent_tx.hash) in god_set_of_all_coinjoins:\n",
    "                current_stats[\"traverse_inputs\"] += 1\n",
    "                tx_pool[\"traverse_inputs\"] += 1\n",
    "                current_stats[\"traverse_inputs_value\"] += tx_input.value\n",
    "                tx_pool[\"traverse_inputs_value\"] += tx_input.value\n",
    "\n",
    "            if str(tx_input.spent_tx.hash) in given_cjs:\n",
    "                current_stats[\"remixed_outputs\"] += 1  \n",
    "                tx_pool[\"remixed_outputs\"] += 1  \n",
    "\n",
    "        current_stats[\"all_outputs\"] += tx.output_count\n",
    "        tx_pool[\"all_outputs\"] += tx.output_count\n",
    "        for tx_output in tx.outputs:\n",
    "            if not tx_output.is_spent:\n",
    "                current_stats[\"unmoved_outputs\"] += 1\n",
    "                tx_pool[\"unmoved_outputs\"] += 1\n",
    "                current_stats[\"unmoved_outputs_value\"] += tx_output.value\n",
    "                tx_pool[\"unmoved_outputs_value\"] += tx_output.value\n",
    "                continue\n",
    "                \n"
   ]
  },
  {
   "cell_type": "code",
   "execution_count": 11,
   "id": "dd2e2603-9bcb-4f25-885a-15e59c14d3aa",
   "metadata": {},
   "outputs": [
    {
     "name": "stdout",
     "output_type": "stream",
     "text": [
      "CPU times: user 1min 48s, sys: 961 ms, total: 1min 49s\n",
      "Wall time: 1min 49s\n",
      "CPU times: user 2min 7s, sys: 971 ms, total: 2min 8s\n",
      "Wall time: 2min 9s\n",
      "CPU times: user 17.1 s, sys: 133 ms, total: 17.3 s\n",
      "Wall time: 17.4 s\n",
      "CPU times: user 45.5 s, sys: 435 ms, total: 46 s\n",
      "Wall time: 46.3 s\n"
     ]
    }
   ],
   "source": [
    "%time get_stats_for_cj(whirlpool_stats, wp_cjs, wp_cjs_hashes, is_whirlpool=True)\n",
    "%time get_stats_for_cj(ww2_stats, ww2_cjs, ww2_cjs_hashes, is_ww2=True)\n",
    "%time get_stats_for_cj(ww2_other_stats, ww2_cjs_other, ww2_cjs_other_hashes, is_ww2=True)\n",
    "%time get_stats_for_cj(ww1_stats, ww1_cjs, ww1_cjs_hashes, is_ww1=True)"
   ]
  },
  {
   "cell_type": "code",
   "execution_count": 12,
   "id": "bac6bd76-b254-4455-99e5-3b74c103d38c",
   "metadata": {},
   "outputs": [],
   "source": [
    "from tabulate import tabulate"
   ]
  },
  {
   "cell_type": "code",
   "execution_count": 13,
   "id": "af677659-2129-440f-9eec-170eb8fe5ccd",
   "metadata": {},
   "outputs": [
    {
     "name": "stdout",
     "output_type": "stream",
     "text": [
      "| Pool                  | Operating period        |   Total cjtxs | Fresh inputs      | Remix rate   | Unmoved UTXOs   |\n",
      "|-----------------------+-------------------------+---------------+-------------------+--------------+-----------------|\n",
      "| Wasabi 1.0 (zkSNACKs) | 2018-07-19 – 2024-06-01 |         26600 | 282k/177865.0 BTC | 53.7%        | 3.2%, 3241.0    |\n",
      "| Wasabi 2.0 (zkSNACKs) | 2022-06-18 – 2024-06-01 |         34742 | 272k/71546.0 BTC  | 86.0%        | 5.9%, 6314.0    |\n",
      "| Wasabi 2.0 (other)    | 2024-06-01 – current    |          2539 | 17k/3232.0 BTC    | 74.0%        | 20.4%, 1367.0   |\n",
      "| Whirlpool all         | 2019-04-17 – 2024-04-24 |        541011 | 1134k/47291.4 BTC | 61.0%        | 10.6%, 8411.0   |\n",
      "| Whirlpool 5m          | 2019-04-17 – 2024-04-24 |        112100 | 233k/11702.6 BTC  | 61.4%        | 10.9%, 1271.0   |\n",
      "| Whirlpool 1m          | 2019-04-17 – 2024-04-24 |        205626 | 434k/4359.3 BTC   | 60.1%        | 8.8%, 384.0     |\n",
      "| Whirlpool 50m         | 2019-04-17 – 2024-04-24 |         30318 | 61k/30812.9 BTC   | 63.0%        | 21.8%, 6712.0   |\n",
      "| Whirlpool 100k        | 2019-04-17 – 2024-04-24 |        192967 | 404k/416.6 BTC    | 61.4%        | 10.7%, 43.0     |\n"
     ]
    }
   ],
   "source": [
    "print(tabulate(\n",
    "    [\n",
    "        [\n",
    "            \"Wasabi 1.0 (zkSNACKs)\", \n",
    "            \"2018-07-19 – 2024-06-01\", \n",
    "            len(ww1_cjs_hashes), \n",
    "            f\"{ww1_stats['fresh_inputs'] // 1000}k/{round(ww1_stats['fresh_inputs_value'] / 100000000, 1)} BTC\", \n",
    "            f\"{round((ww1_stats['remixed_outputs'] / ww1_stats['all_outputs']) * 100, 1)}%\", \n",
    "            f\"{round((ww1_stats['unmoved_outputs'] / (ww1_stats['all_outputs'] - ww1_stats['remixed_outputs'])) * 100, 1)}%, {round(ww1_stats['unmoved_outputs_value'] / 100000000, 0)}\"\n",
    "        ],\n",
    "        [\n",
    "            \"Wasabi 2.0 (zkSNACKs)\", \n",
    "            \"2022-06-18 – 2024-06-01\", \n",
    "            len(ww2_cjs_hashes), \n",
    "            f\"{ww2_stats['fresh_inputs'] // 1000}k/{round(ww2_stats['fresh_inputs_value'] / 100000000, 0)} BTC\", \n",
    "            f\"{round((ww2_stats['remixed_outputs'] / ww2_stats['all_outputs']) * 100, 1)}%\", \n",
    "            f\"{round((ww2_stats['unmoved_outputs'] / (ww2_stats['all_outputs'] - ww2_stats['remixed_outputs'])) * 100, 1)}%, {round(ww2_stats['unmoved_outputs_value'] / 100000000, 0)}\"        \n",
    "        ],\n",
    "        [\n",
    "            \"Wasabi 2.0 (other)\", \n",
    "            \"2024-06-01 – current\", \n",
    "            len(ww2_cjs_other_hashes), \n",
    "            f\"{ww2_other_stats['fresh_inputs'] // 1000}k/{round(ww2_other_stats['fresh_inputs_value'] / 100000000, 0)} BTC\", \n",
    "            f\"{round((ww2_other_stats['remixed_outputs'] / ww2_other_stats['all_outputs']) * 100, 1)}%\", \n",
    "            f\"{round((ww2_other_stats['unmoved_outputs'] / (ww2_other_stats['all_outputs'] - ww2_other_stats['remixed_outputs'])) * 100, 1)}%, {round(ww2_other_stats['unmoved_outputs_value'] / 100000000, 0)}\"        \n",
    "        ],\n",
    "        *(\n",
    "            [\n",
    "                f\"Whirlpool {key}\", \n",
    "                \"2019-04-17 – 2024-04-24\", \n",
    "                whirlpool_stats[key][\"all_txes\"], \n",
    "                f\"{whirlpool_stats[key]['fresh_inputs'] // 1000}k/{round(whirlpool_stats[key]['fresh_inputs_value'] / 100000000, 1)} BTC\", \n",
    "                f\"{round((whirlpool_stats[key]['remixed_outputs'] / max(whirlpool_stats[key]['all_outputs'], 1)) * 100, 1)}%\", \n",
    "                f\"{round(whirlpool_stats[key]['unmoved_outputs'] / (max((whirlpool_stats[key]['all_outputs'] - whirlpool_stats[key]['remixed_outputs']), 1)) * 100, 1)}%, {round(whirlpool_stats[key]['unmoved_outputs_value'] / 100000000, 0)}\"        \n",
    "            ] for key in whirlpool_stats\n",
    "        )\n",
    "        \n",
    "    ],\n",
    "    headers=['Pool', 'Operating period', \"Total cjtxs\", \"Fresh inputs\", \"Remix rate\", \"Unmoved UTXOs\"], \n",
    "    tablefmt='orgtbl'\n",
    "    )\n",
    ")\n"
   ]
  },
  {
   "cell_type": "code",
   "execution_count": 58,
   "id": "1f4f9f8f-93bb-4fab-ba69-dbfdffec7ec8",
   "metadata": {},
   "outputs": [
    {
     "name": "stdout",
     "output_type": "stream",
     "text": [
      "0 0\n"
     ]
    }
   ],
   "source": [
    "from typing import Dict\n",
    "data: Dict[str, blocksci.address_type] = {}\n",
    "\n",
    "\n",
    "\n",
    "df = pd.DataFrame(data)\n",
    "df['timestamp'] = pd.to_datetime(df['timestamp'])\n",
    "\n",
    "# Group by timeframe and script type\n",
    "grouped = df.groupby([df['timestamp'], 'script_type']).size().reset_index(name='count')\n",
    "\n",
    "# Pivot to get counts of each script type per timestamp\n",
    "pivot_df = grouped.pivot(index='timestamp', columns='script_type', values='count').fillna(0)\n",
    "\n",
    "# Calculate total transactions per timestamp and percentages\n",
    "pivot_df['total'] = pivot_df.sum(axis=1)\n",
    "percentages = pivot_df.div(pivot_df['total'], axis=0) * 100\n",
    "percentages = percentages.drop(columns=['total'])\n",
    "\n",
    "# Plotting\n",
    "plt.figure(figsize=(12, 6))\n",
    "percentages.plot(kind='line', marker='o', ax=plt.gca())\n",
    "plt.title('Bitcoin Script Type Usage Over Time')\n",
    "plt.xlabel('Date')\n",
    "plt.ylabel('Percentage')\n",
    "plt.legend(title='Script Type')\n",
    "plt.grid()\n",
    "plt.show()\n",
    "\n"
   ]
  }
 ],
 "metadata": {
  "kernelspec": {
   "display_name": "Python 3 (ipykernel)",
   "language": "python",
   "name": "python3"
  },
  "language_info": {
   "codemirror_mode": {
    "name": "ipython",
    "version": 3
   },
   "file_extension": ".py",
   "mimetype": "text/x-python",
   "name": "python",
   "nbconvert_exporter": "python",
   "pygments_lexer": "ipython3",
   "version": "3.8.10"
  }
 },
 "nbformat": 4,
 "nbformat_minor": 5
}
